{
 "cells": [
  {
   "cell_type": "code",
   "execution_count": 8,
   "metadata": {},
   "outputs": [],
   "source": [
    "import torch\n",
    "import matplotlib.pyplot as plt"
   ]
  },
  {
   "cell_type": "code",
   "execution_count": 9,
   "metadata": {},
   "outputs": [],
   "source": [
    "N=torch.zeros((27,27),dtype=torch.int32)"
   ]
  },
  {
   "cell_type": "code",
   "execution_count": 10,
   "metadata": {},
   "outputs": [
    {
     "data": {
      "text/plain": [
       "torch.Size([27, 27])"
      ]
     },
     "execution_count": 10,
     "metadata": {},
     "output_type": "execute_result"
    }
   ],
   "source": [
    "N.shape"
   ]
  },
  {
   "cell_type": "code",
   "execution_count": 11,
   "metadata": {},
   "outputs": [],
   "source": [
    "words=open('names.txt','r').read().splitlines()"
   ]
  },
  {
   "cell_type": "code",
   "execution_count": 363,
   "metadata": {},
   "outputs": [
    {
     "data": {
      "text/plain": [
       "32033"
      ]
     },
     "execution_count": 363,
     "metadata": {},
     "output_type": "execute_result"
    }
   ],
   "source": [
    "len(words)"
   ]
  },
  {
   "cell_type": "code",
   "execution_count": 12,
   "metadata": {},
   "outputs": [],
   "source": [
    "chars=sorted(list(set(''.join(words))))"
   ]
  },
  {
   "cell_type": "code",
   "execution_count": 13,
   "metadata": {},
   "outputs": [],
   "source": [
    "stoi={s:i+1 for i,s in enumerate(chars)}\n",
    "stoi['.']=0\n",
    "itos={i:s for s,i in stoi.items()}"
   ]
  },
  {
   "cell_type": "code",
   "execution_count": 42,
   "metadata": {},
   "outputs": [],
   "source": [
    "# stoi"
   ]
  },
  {
   "cell_type": "code",
   "execution_count": 24,
   "metadata": {},
   "outputs": [],
   "source": [
    "# itos"
   ]
  },
  {
   "cell_type": "code",
   "execution_count": 32,
   "metadata": {},
   "outputs": [],
   "source": [
    "# b={}\n",
    "# for w in words:\n",
    "#     name=['<S>']+list(w)+['<E>']\n",
    "#     for x,y in zip(name,name[1:]):\n",
    "#         b[(x,y)]=b.get((x,y),0) + 1\n",
    "for w in words:\n",
    "    name=['.']+list(w)+['.']\n",
    "    for x,y in zip(name,name[1:]):\n",
    "        N[stoi[x],stoi[y]]+= 1"
   ]
  },
  {
   "cell_type": "code",
   "execution_count": 36,
   "metadata": {},
   "outputs": [],
   "source": [
    "# sorted(b.items(),key=lambda kv:-kv[1])"
   ]
  },
  {
   "cell_type": "code",
   "execution_count": 41,
   "metadata": {},
   "outputs": [
    {
     "data": {
      "text/plain": [
       "<matplotlib.image.AxesImage at 0x19daad063d0>"
      ]
     },
     "execution_count": 41,
     "metadata": {},
     "output_type": "execute_result"
    },
    {
     "data": {
      "image/png": "[encoded data removed]",
      "text/plain": [
       "<Figure size 640x480 with 1 Axes>"
      ]
     },
     "metadata": {},
     "output_type": "display_data"
    }
   ],
   "source": [
    "plt.imshow(N,cmap='Blues')"
   ]
  },
  {
   "cell_type": "markdown",
   "metadata": {},
   "source": [
    "### NN approch"
   ]
  },
  {
   "cell_type": "code",
   "execution_count": 14,
   "metadata": {},
   "outputs": [],
   "source": [
    "# words"
   ]
  },
  {
   "cell_type": "code",
   "execution_count": 15,
   "metadata": {},
   "outputs": [],
   "source": [
    "xs,ys=[],[]\n",
    "for w in words[:1]:\n",
    "    name=['.']+list(w)+['.']\n",
    "    for x,y in zip(name,name[1:]):\n",
    "        xs.append(stoi[x])\n",
    "        ys.append(stoi[y])\n",
    "xs=torch.tensor(xs)\n",
    "ys=torch.tensor(ys)"
   ]
  },
  {
   "cell_type": "code",
   "execution_count": 16,
   "metadata": {},
   "outputs": [
    {
     "data": {
      "text/plain": [
       "tensor([ 0,  5, 13, 13,  1])"
      ]
     },
     "execution_count": 16,
     "metadata": {},
     "output_type": "execute_result"
    }
   ],
   "source": [
    "xs"
   ]
  },
  {
   "cell_type": "code",
   "execution_count": 17,
   "metadata": {},
   "outputs": [
    {
     "data": {
      "text/plain": [
       "tensor([ 5, 13, 13,  1,  0])"
      ]
     },
     "execution_count": 17,
     "metadata": {},
     "output_type": "execute_result"
    }
   ],
   "source": [
    "ys"
   ]
  },
  {
   "cell_type": "code",
   "execution_count": 18,
   "metadata": {},
   "outputs": [],
   "source": [
    "xenc=torch.nn.functional.one_hot(xs,num_classes=27).float()"
   ]
  },
  {
   "cell_type": "code",
   "execution_count": 19,
   "metadata": {},
   "outputs": [
    {
     "data": {
      "text/plain": [
       "tensor([[1., 0., 0., 0., 0., 0., 0., 0., 0., 0., 0., 0., 0., 0., 0., 0., 0., 0.,\n",
       "         0., 0., 0., 0., 0., 0., 0., 0., 0.],\n",
       "        [0., 0., 0., 0., 0., 1., 0., 0., 0., 0., 0., 0., 0., 0., 0., 0., 0., 0.,\n",
       "         0., 0., 0., 0., 0., 0., 0., 0., 0.],\n",
       "        [0., 0., 0., 0., 0., 0., 0., 0., 0., 0., 0., 0., 0., 1., 0., 0., 0., 0.,\n",
       "         0., 0., 0., 0., 0., 0., 0., 0., 0.],\n",
       "        [0., 0., 0., 0., 0., 0., 0., 0., 0., 0., 0., 0., 0., 1., 0., 0., 0., 0.,\n",
       "         0., 0., 0., 0., 0., 0., 0., 0., 0.],\n",
       "        [0., 1., 0., 0., 0., 0., 0., 0., 0., 0., 0., 0., 0., 0., 0., 0., 0., 0.,\n",
       "         0., 0., 0., 0., 0., 0., 0., 0., 0.]])"
      ]
     },
     "execution_count": 19,
     "metadata": {},
     "output_type": "execute_result"
    }
   ],
   "source": [
    "xenc"
   ]
  },
  {
   "cell_type": "code",
   "execution_count": 20,
   "metadata": {},
   "outputs": [
    {
     "data": {
      "text/plain": [
       "<matplotlib.image.AxesImage at 0x274ee9d71d0>"
      ]
     },
     "execution_count": 20,
     "metadata": {},
     "output_type": "execute_result"
    },
    {
     "data": {
      "image/png": "[encoded data removed]",
      "text/plain": [
       "<Figure size 640x480 with 1 Axes>"
      ]
     },
     "metadata": {},
     "output_type": "display_data"
    }
   ],
   "source": [
    "plt.imshow(xenc)"
   ]
  },
  {
   "cell_type": "code",
   "execution_count": 21,
   "metadata": {},
   "outputs": [
    {
     "data": {
      "text/plain": [
       "torch.float32"
      ]
     },
     "execution_count": 21,
     "metadata": {},
     "output_type": "execute_result"
    }
   ],
   "source": [
    "xenc.dtype"
   ]
  },
  {
   "cell_type": "code",
   "execution_count": 22,
   "metadata": {},
   "outputs": [
    {
     "data": {
      "text/plain": [
       "torch.Size([5, 27])"
      ]
     },
     "execution_count": 22,
     "metadata": {},
     "output_type": "execute_result"
    }
   ],
   "source": [
    "xenc.shape"
   ]
  },
  {
   "cell_type": "markdown",
   "metadata": {},
   "source": [
    "Essentially what we are doing is we are taking input layer of 27 and we are sending one hot vector at a single round. so shape of w for single neuron is 27 * 1 and we are taking 27 neurons in hidden layer"
   ]
  },
  {
   "cell_type": "code",
   "execution_count": 23,
   "metadata": {},
   "outputs": [],
   "source": [
    "W=torch.randn((27,27))"
   ]
  },
  {
   "cell_type": "code",
   "execution_count": 24,
   "metadata": {},
   "outputs": [],
   "source": [
    "logits=xenc @ W"
   ]
  },
  {
   "cell_type": "code",
   "execution_count": 31,
   "metadata": {},
   "outputs": [
    {
     "data": {
      "text/plain": [
       "tensor([[ 0.4202,  0.2082,  0.1716,  1.0313, -1.0565,  0.0907,  0.8835,  0.8459,\n",
       "         -0.1742,  1.1272,  1.1499,  0.9338,  0.0811,  0.1836,  0.7221, -0.6086,\n",
       "          0.2446, -1.0480,  0.2273, -0.7793, -0.8747,  1.2098, -1.0722,  0.2030,\n",
       "          0.9666,  0.8442,  0.0192]])"
      ]
     },
     "execution_count": 31,
     "metadata": {},
     "output_type": "execute_result"
    }
   ],
   "source": [
    "logits[:1]"
   ]
  },
  {
   "cell_type": "code",
   "execution_count": 32,
   "metadata": {},
   "outputs": [],
   "source": [
    "counts=logits.exp()"
   ]
  },
  {
   "cell_type": "code",
   "execution_count": 41,
   "metadata": {},
   "outputs": [],
   "source": [
    "probs=counts/counts.sum(1,keepdim=True)"
   ]
  },
  {
   "cell_type": "code",
   "execution_count": 42,
   "metadata": {},
   "outputs": [
    {
     "data": {
      "text/plain": [
       "torch.Size([5])"
      ]
     },
     "execution_count": 42,
     "metadata": {},
     "output_type": "execute_result"
    }
   ],
   "source": [
    "ys.shape"
   ]
  },
  {
   "cell_type": "code",
   "execution_count": 43,
   "metadata": {},
   "outputs": [
    {
     "data": {
      "text/plain": [
       "torch.Size([5, 27])"
      ]
     },
     "execution_count": 43,
     "metadata": {},
     "output_type": "execute_result"
    }
   ],
   "source": [
    "probs.shape\n"
   ]
  },
  {
   "cell_type": "code",
   "execution_count": 91,
   "metadata": {},
   "outputs": [
    {
     "data": {
      "text/plain": [
       "tensor(-4.2090)"
      ]
     },
     "execution_count": 91,
     "metadata": {},
     "output_type": "execute_result"
    }
   ],
   "source": [
    "probs[torch.arange(5),ys].log().mean()"
   ]
  },
  {
   "cell_type": "code",
   "execution_count": 97,
   "metadata": {},
   "outputs": [
    {
     "data": {
      "text/plain": [
       "tensor([ 5, 13, 13,  1,  0])"
      ]
     },
     "execution_count": 97,
     "metadata": {},
     "output_type": "execute_result"
    }
   ],
   "source": [
    "ys"
   ]
  },
  {
   "cell_type": "markdown",
   "metadata": {},
   "source": [
    "proper NN flow"
   ]
  },
  {
   "cell_type": "code",
   "execution_count": 45,
   "metadata": {},
   "outputs": [
    {
     "name": "stdout",
     "output_type": "stream",
     "text": [
      "tensor([ 0,  5, 13, 13,  1]) tensor([ 5, 13, 13,  1,  0])\n"
     ]
    }
   ],
   "source": [
    "print(xs,ys)"
   ]
  },
  {
   "cell_type": "code",
   "execution_count": 72,
   "metadata": {},
   "outputs": [],
   "source": [
    "# initialise weights and set xs and ys\n",
    "W=torch.randn((27,27),requires_grad=True)\n",
    "X=torch.nn.functional.one_hot(xs,num_classes=27).float()"
   ]
  },
  {
   "cell_type": "code",
   "execution_count": 73,
   "metadata": {},
   "outputs": [
    {
     "data": {
      "text/plain": [
       "torch.Size([5, 27])"
      ]
     },
     "execution_count": 73,
     "metadata": {},
     "output_type": "execute_result"
    }
   ],
   "source": [
    "X.shape"
   ]
  },
  {
   "cell_type": "code",
   "execution_count": 94,
   "metadata": {},
   "outputs": [],
   "source": [
    "# forward pass\n",
    "logits=X @ W\n",
    "counts=logits.exp()\n",
    "probs=counts/counts.sum(1,keepdim=True)\n",
    "loss=-probs[torch.arange(5),ys].log().mean()"
   ]
  },
  {
   "cell_type": "code",
   "execution_count": 95,
   "metadata": {},
   "outputs": [
    {
     "data": {
      "text/plain": [
       "tensor(3.2088, grad_fn=<NegBackward0>)"
      ]
     },
     "execution_count": 95,
     "metadata": {},
     "output_type": "execute_result"
    }
   ],
   "source": [
    "loss"
   ]
  },
  {
   "cell_type": "code",
   "execution_count": 96,
   "metadata": {},
   "outputs": [],
   "source": [
    "#backward pass\n",
    "W.grad=None\n",
    "loss.backward()"
   ]
  },
  {
   "cell_type": "code",
   "execution_count": 97,
   "metadata": {},
   "outputs": [],
   "source": [
    "#update weights based off backward prop\n",
    "W.data+=-0.1*W.grad"
   ]
  },
  {
   "cell_type": "markdown",
   "metadata": {},
   "source": [
    "Clear Imple"
   ]
  },
  {
   "cell_type": "code",
   "execution_count": 266,
   "metadata": {},
   "outputs": [],
   "source": [
    "xs,ys=[],[]\n",
    "for w in words:\n",
    "    name=['.']+list(w)+['.']\n",
    "    for x,y in zip(name,name[1:]):\n",
    "        xs.append(stoi[x])\n",
    "        ys.append(stoi[y])\n",
    "xs=torch.tensor(xs)\n",
    "ys=torch.tensor(ys)"
   ]
  },
  {
   "cell_type": "code",
   "execution_count": 213,
   "metadata": {},
   "outputs": [],
   "source": [
    "# initialise weights and set xs and ys\n",
    "W=torch.randn((27,27),requires_grad=True)\n",
    "X=torch.nn.functional.one_hot(xs,num_classes=27).float()\n",
    "num=xs.nelement()"
   ]
  },
  {
   "cell_type": "code",
   "execution_count": 214,
   "metadata": {},
   "outputs": [],
   "source": [
    "# # forward pass\n",
    "# logits=X @ W\n",
    "# counts=logits.exp()\n",
    "# probs=counts/counts.sum(1,keepdim=True)\n",
    "# loss=-probs[torch.arange(num),ys].log().mean()"
   ]
  },
  {
   "cell_type": "code",
   "execution_count": 215,
   "metadata": {},
   "outputs": [],
   "source": [
    "# #backward pass\n",
    "# W.grad=None\n",
    "# loss.backward()"
   ]
  },
  {
   "cell_type": "code",
   "execution_count": 216,
   "metadata": {},
   "outputs": [],
   "source": [
    "# #update weights based off backward prop\n",
    "# W.data+=-0.1*W.grad"
   ]
  },
  {
   "cell_type": "code",
   "execution_count": 366,
   "metadata": {},
   "outputs": [
    {
     "data": {
      "text/plain": [
       "torch.Size([27, 27])"
      ]
     },
     "execution_count": 366,
     "metadata": {},
     "output_type": "execute_result"
    }
   ],
   "source": [
    "W.shape"
   ]
  },
  {
   "cell_type": "code",
   "execution_count": 365,
   "metadata": {},
   "outputs": [
    {
     "data": {
      "text/plain": [
       "torch.Size([228146, 27])"
      ]
     },
     "execution_count": 365,
     "metadata": {},
     "output_type": "execute_result"
    }
   ],
   "source": [
    "X.shape"
   ]
  },
  {
   "cell_type": "code",
   "execution_count": 367,
   "metadata": {},
   "outputs": [],
   "source": [
    "a=X @ W"
   ]
  },
  {
   "cell_type": "code",
   "execution_count": 368,
   "metadata": {},
   "outputs": [
    {
     "data": {
      "text/plain": [
       "torch.Size([228146, 27])"
      ]
     },
     "execution_count": 368,
     "metadata": {},
     "output_type": "execute_result"
    }
   ],
   "source": [
    "a.shape"
   ]
  },
  {
   "cell_type": "code",
   "execution_count": 218,
   "metadata": {},
   "outputs": [
    {
     "name": "stdout",
     "output_type": "stream",
     "text": [
      "tensor(2.5649, grad_fn=<NegBackward0>)\n",
      "tensor(2.5638, grad_fn=<NegBackward0>)\n",
      "tensor(2.5627, grad_fn=<NegBackward0>)\n",
      "tensor(2.5617, grad_fn=<NegBackward0>)\n",
      "tensor(2.5606, grad_fn=<NegBackward0>)\n",
      "tensor(2.5596, grad_fn=<NegBackward0>)\n",
      "tensor(2.5586, grad_fn=<NegBackward0>)\n",
      "tensor(2.5576, grad_fn=<NegBackward0>)\n",
      "tensor(2.5566, grad_fn=<NegBackward0>)\n",
      "tensor(2.5557, grad_fn=<NegBackward0>)\n",
      "tensor(2.5548, grad_fn=<NegBackward0>)\n",
      "tensor(2.5538, grad_fn=<NegBackward0>)\n",
      "tensor(2.5529, grad_fn=<NegBackward0>)\n",
      "tensor(2.5520, grad_fn=<NegBackward0>)\n",
      "tensor(2.5512, grad_fn=<NegBackward0>)\n",
      "tensor(2.5503, grad_fn=<NegBackward0>)\n",
      "tensor(2.5495, grad_fn=<NegBackward0>)\n",
      "tensor(2.5486, grad_fn=<NegBackward0>)\n",
      "tensor(2.5478, grad_fn=<NegBackward0>)\n",
      "tensor(2.5470, grad_fn=<NegBackward0>)\n",
      "tensor(2.5462, grad_fn=<NegBackward0>)\n",
      "tensor(2.5454, grad_fn=<NegBackward0>)\n",
      "tensor(2.5446, grad_fn=<NegBackward0>)\n",
      "tensor(2.5439, grad_fn=<NegBackward0>)\n",
      "tensor(2.5431, grad_fn=<NegBackward0>)\n",
      "tensor(2.5424, grad_fn=<NegBackward0>)\n",
      "tensor(2.5417, grad_fn=<NegBackward0>)\n",
      "tensor(2.5409, grad_fn=<NegBackward0>)\n",
      "tensor(2.5402, grad_fn=<NegBackward0>)\n",
      "tensor(2.5395, grad_fn=<NegBackward0>)\n",
      "tensor(2.5389, grad_fn=<NegBackward0>)\n",
      "tensor(2.5382, grad_fn=<NegBackward0>)\n",
      "tensor(2.5375, grad_fn=<NegBackward0>)\n",
      "tensor(2.5369, grad_fn=<NegBackward0>)\n",
      "tensor(2.5362, grad_fn=<NegBackward0>)\n",
      "tensor(2.5356, grad_fn=<NegBackward0>)\n",
      "tensor(2.5349, grad_fn=<NegBackward0>)\n",
      "tensor(2.5343, grad_fn=<NegBackward0>)\n",
      "tensor(2.5337, grad_fn=<NegBackward0>)\n",
      "tensor(2.5331, grad_fn=<NegBackward0>)\n",
      "tensor(2.5325, grad_fn=<NegBackward0>)\n",
      "tensor(2.5319, grad_fn=<NegBackward0>)\n",
      "tensor(2.5313, grad_fn=<NegBackward0>)\n",
      "tensor(2.5307, grad_fn=<NegBackward0>)\n",
      "tensor(2.5302, grad_fn=<NegBackward0>)\n",
      "tensor(2.5296, grad_fn=<NegBackward0>)\n",
      "tensor(2.5291, grad_fn=<NegBackward0>)\n",
      "tensor(2.5285, grad_fn=<NegBackward0>)\n",
      "tensor(2.5280, grad_fn=<NegBackward0>)\n",
      "tensor(2.5274, grad_fn=<NegBackward0>)\n",
      "tensor(2.5269, grad_fn=<NegBackward0>)\n",
      "tensor(2.5264, grad_fn=<NegBackward0>)\n",
      "tensor(2.5259, grad_fn=<NegBackward0>)\n",
      "tensor(2.5254, grad_fn=<NegBackward0>)\n",
      "tensor(2.5249, grad_fn=<NegBackward0>)\n",
      "tensor(2.5244, grad_fn=<NegBackward0>)\n",
      "tensor(2.5239, grad_fn=<NegBackward0>)\n",
      "tensor(2.5234, grad_fn=<NegBackward0>)\n",
      "tensor(2.5229, grad_fn=<NegBackward0>)\n",
      "tensor(2.5225, grad_fn=<NegBackward0>)\n",
      "tensor(2.5220, grad_fn=<NegBackward0>)\n",
      "tensor(2.5215, grad_fn=<NegBackward0>)\n",
      "tensor(2.5211, grad_fn=<NegBackward0>)\n",
      "tensor(2.5206, grad_fn=<NegBackward0>)\n",
      "tensor(2.5202, grad_fn=<NegBackward0>)\n",
      "tensor(2.5198, grad_fn=<NegBackward0>)\n",
      "tensor(2.5193, grad_fn=<NegBackward0>)\n",
      "tensor(2.5189, grad_fn=<NegBackward0>)\n",
      "tensor(2.5185, grad_fn=<NegBackward0>)\n",
      "tensor(2.5180, grad_fn=<NegBackward0>)\n",
      "tensor(2.5176, grad_fn=<NegBackward0>)\n",
      "tensor(2.5172, grad_fn=<NegBackward0>)\n",
      "tensor(2.5168, grad_fn=<NegBackward0>)\n",
      "tensor(2.5164, grad_fn=<NegBackward0>)\n",
      "tensor(2.5160, grad_fn=<NegBackward0>)\n",
      "tensor(2.5156, grad_fn=<NegBackward0>)\n",
      "tensor(2.5152, grad_fn=<NegBackward0>)\n",
      "tensor(2.5149, grad_fn=<NegBackward0>)\n",
      "tensor(2.5145, grad_fn=<NegBackward0>)\n",
      "tensor(2.5141, grad_fn=<NegBackward0>)\n",
      "tensor(2.5137, grad_fn=<NegBackward0>)\n",
      "tensor(2.5134, grad_fn=<NegBackward0>)\n",
      "tensor(2.5130, grad_fn=<NegBackward0>)\n",
      "tensor(2.5126, grad_fn=<NegBackward0>)\n",
      "tensor(2.5123, grad_fn=<NegBackward0>)\n",
      "tensor(2.5119, grad_fn=<NegBackward0>)\n",
      "tensor(2.5116, grad_fn=<NegBackward0>)\n",
      "tensor(2.5112, grad_fn=<NegBackward0>)\n",
      "tensor(2.5109, grad_fn=<NegBackward0>)\n",
      "tensor(2.5106, grad_fn=<NegBackward0>)\n",
      "tensor(2.5102, grad_fn=<NegBackward0>)\n",
      "tensor(2.5099, grad_fn=<NegBackward0>)\n",
      "tensor(2.5096, grad_fn=<NegBackward0>)\n",
      "tensor(2.5093, grad_fn=<NegBackward0>)\n",
      "tensor(2.5089, grad_fn=<NegBackward0>)\n",
      "tensor(2.5086, grad_fn=<NegBackward0>)\n",
      "tensor(2.5083, grad_fn=<NegBackward0>)\n",
      "tensor(2.5080, grad_fn=<NegBackward0>)\n",
      "tensor(2.5077, grad_fn=<NegBackward0>)\n",
      "tensor(2.5074, grad_fn=<NegBackward0>)\n",
      "tensor(2.5071, grad_fn=<NegBackward0>)\n",
      "tensor(2.5068, grad_fn=<NegBackward0>)\n",
      "tensor(2.5065, grad_fn=<NegBackward0>)\n",
      "tensor(2.5062, grad_fn=<NegBackward0>)\n",
      "tensor(2.5059, grad_fn=<NegBackward0>)\n",
      "tensor(2.5056, grad_fn=<NegBackward0>)\n",
      "tensor(2.5053, grad_fn=<NegBackward0>)\n",
      "tensor(2.5051, grad_fn=<NegBackward0>)\n",
      "tensor(2.5048, grad_fn=<NegBackward0>)\n",
      "tensor(2.5045, grad_fn=<NegBackward0>)\n",
      "tensor(2.5042, grad_fn=<NegBackward0>)\n",
      "tensor(2.5040, grad_fn=<NegBackward0>)\n",
      "tensor(2.5037, grad_fn=<NegBackward0>)\n",
      "tensor(2.5034, grad_fn=<NegBackward0>)\n",
      "tensor(2.5032, grad_fn=<NegBackward0>)\n",
      "tensor(2.5029, grad_fn=<NegBackward0>)\n",
      "tensor(2.5027, grad_fn=<NegBackward0>)\n",
      "tensor(2.5024, grad_fn=<NegBackward0>)\n",
      "tensor(2.5022, grad_fn=<NegBackward0>)\n",
      "tensor(2.5019, grad_fn=<NegBackward0>)\n",
      "tensor(2.5017, grad_fn=<NegBackward0>)\n",
      "tensor(2.5014, grad_fn=<NegBackward0>)\n",
      "tensor(2.5012, grad_fn=<NegBackward0>)\n",
      "tensor(2.5009, grad_fn=<NegBackward0>)\n",
      "tensor(2.5007, grad_fn=<NegBackward0>)\n",
      "tensor(2.5004, grad_fn=<NegBackward0>)\n",
      "tensor(2.5002, grad_fn=<NegBackward0>)\n",
      "tensor(2.5000, grad_fn=<NegBackward0>)\n",
      "tensor(2.4998, grad_fn=<NegBackward0>)\n",
      "tensor(2.4995, grad_fn=<NegBackward0>)\n",
      "tensor(2.4993, grad_fn=<NegBackward0>)\n",
      "tensor(2.4991, grad_fn=<NegBackward0>)\n",
      "tensor(2.4989, grad_fn=<NegBackward0>)\n",
      "tensor(2.4986, grad_fn=<NegBackward0>)\n",
      "tensor(2.4984, grad_fn=<NegBackward0>)\n",
      "tensor(2.4982, grad_fn=<NegBackward0>)\n",
      "tensor(2.4980, grad_fn=<NegBackward0>)\n",
      "tensor(2.4978, grad_fn=<NegBackward0>)\n",
      "tensor(2.4976, grad_fn=<NegBackward0>)\n",
      "tensor(2.4974, grad_fn=<NegBackward0>)\n",
      "tensor(2.4971, grad_fn=<NegBackward0>)\n",
      "tensor(2.4969, grad_fn=<NegBackward0>)\n",
      "tensor(2.4967, grad_fn=<NegBackward0>)\n",
      "tensor(2.4965, grad_fn=<NegBackward0>)\n",
      "tensor(2.4963, grad_fn=<NegBackward0>)\n",
      "tensor(2.4961, grad_fn=<NegBackward0>)\n",
      "tensor(2.4959, grad_fn=<NegBackward0>)\n",
      "tensor(2.4958, grad_fn=<NegBackward0>)\n",
      "tensor(2.4956, grad_fn=<NegBackward0>)\n",
      "tensor(2.4954, grad_fn=<NegBackward0>)\n",
      "tensor(2.4952, grad_fn=<NegBackward0>)\n",
      "tensor(2.4950, grad_fn=<NegBackward0>)\n",
      "tensor(2.4948, grad_fn=<NegBackward0>)\n",
      "tensor(2.4946, grad_fn=<NegBackward0>)\n",
      "tensor(2.4944, grad_fn=<NegBackward0>)\n",
      "tensor(2.4943, grad_fn=<NegBackward0>)\n",
      "tensor(2.4941, grad_fn=<NegBackward0>)\n",
      "tensor(2.4939, grad_fn=<NegBackward0>)\n",
      "tensor(2.4937, grad_fn=<NegBackward0>)\n",
      "tensor(2.4935, grad_fn=<NegBackward0>)\n",
      "tensor(2.4934, grad_fn=<NegBackward0>)\n",
      "tensor(2.4932, grad_fn=<NegBackward0>)\n",
      "tensor(2.4930, grad_fn=<NegBackward0>)\n",
      "tensor(2.4929, grad_fn=<NegBackward0>)\n",
      "tensor(2.4927, grad_fn=<NegBackward0>)\n",
      "tensor(2.4925, grad_fn=<NegBackward0>)\n",
      "tensor(2.4923, grad_fn=<NegBackward0>)\n",
      "tensor(2.4922, grad_fn=<NegBackward0>)\n",
      "tensor(2.4920, grad_fn=<NegBackward0>)\n",
      "tensor(2.4919, grad_fn=<NegBackward0>)\n",
      "tensor(2.4917, grad_fn=<NegBackward0>)\n",
      "tensor(2.4915, grad_fn=<NegBackward0>)\n",
      "tensor(2.4914, grad_fn=<NegBackward0>)\n",
      "tensor(2.4912, grad_fn=<NegBackward0>)\n",
      "tensor(2.4911, grad_fn=<NegBackward0>)\n",
      "tensor(2.4909, grad_fn=<NegBackward0>)\n",
      "tensor(2.4908, grad_fn=<NegBackward0>)\n",
      "tensor(2.4906, grad_fn=<NegBackward0>)\n",
      "tensor(2.4905, grad_fn=<NegBackward0>)\n",
      "tensor(2.4903, grad_fn=<NegBackward0>)\n",
      "tensor(2.4902, grad_fn=<NegBackward0>)\n",
      "tensor(2.4900, grad_fn=<NegBackward0>)\n",
      "tensor(2.4899, grad_fn=<NegBackward0>)\n",
      "tensor(2.4897, grad_fn=<NegBackward0>)\n",
      "tensor(2.4896, grad_fn=<NegBackward0>)\n",
      "tensor(2.4894, grad_fn=<NegBackward0>)\n",
      "tensor(2.4893, grad_fn=<NegBackward0>)\n",
      "tensor(2.4891, grad_fn=<NegBackward0>)\n",
      "tensor(2.4890, grad_fn=<NegBackward0>)\n",
      "tensor(2.4889, grad_fn=<NegBackward0>)\n",
      "tensor(2.4887, grad_fn=<NegBackward0>)\n",
      "tensor(2.4886, grad_fn=<NegBackward0>)\n",
      "tensor(2.4885, grad_fn=<NegBackward0>)\n",
      "tensor(2.4883, grad_fn=<NegBackward0>)\n",
      "tensor(2.4882, grad_fn=<NegBackward0>)\n",
      "tensor(2.4881, grad_fn=<NegBackward0>)\n",
      "tensor(2.4879, grad_fn=<NegBackward0>)\n",
      "tensor(2.4878, grad_fn=<NegBackward0>)\n",
      "tensor(2.4877, grad_fn=<NegBackward0>)\n",
      "tensor(2.4875, grad_fn=<NegBackward0>)\n",
      "tensor(2.4874, grad_fn=<NegBackward0>)\n",
      "tensor(2.4873, grad_fn=<NegBackward0>)\n",
      "tensor(2.4871, grad_fn=<NegBackward0>)\n",
      "tensor(2.4870, grad_fn=<NegBackward0>)\n",
      "tensor(2.4869, grad_fn=<NegBackward0>)\n",
      "tensor(2.4868, grad_fn=<NegBackward0>)\n",
      "tensor(2.4866, grad_fn=<NegBackward0>)\n",
      "tensor(2.4865, grad_fn=<NegBackward0>)\n",
      "tensor(2.4864, grad_fn=<NegBackward0>)\n",
      "tensor(2.4863, grad_fn=<NegBackward0>)\n",
      "tensor(2.4862, grad_fn=<NegBackward0>)\n",
      "tensor(2.4860, grad_fn=<NegBackward0>)\n",
      "tensor(2.4859, grad_fn=<NegBackward0>)\n",
      "tensor(2.4858, grad_fn=<NegBackward0>)\n",
      "tensor(2.4857, grad_fn=<NegBackward0>)\n",
      "tensor(2.4856, grad_fn=<NegBackward0>)\n",
      "tensor(2.4855, grad_fn=<NegBackward0>)\n",
      "tensor(2.4853, grad_fn=<NegBackward0>)\n",
      "tensor(2.4852, grad_fn=<NegBackward0>)\n",
      "tensor(2.4851, grad_fn=<NegBackward0>)\n",
      "tensor(2.4850, grad_fn=<NegBackward0>)\n",
      "tensor(2.4849, grad_fn=<NegBackward0>)\n",
      "tensor(2.4848, grad_fn=<NegBackward0>)\n",
      "tensor(2.4847, grad_fn=<NegBackward0>)\n",
      "tensor(2.4846, grad_fn=<NegBackward0>)\n",
      "tensor(2.4845, grad_fn=<NegBackward0>)\n",
      "tensor(2.4844, grad_fn=<NegBackward0>)\n",
      "tensor(2.4842, grad_fn=<NegBackward0>)\n",
      "tensor(2.4841, grad_fn=<NegBackward0>)\n",
      "tensor(2.4840, grad_fn=<NegBackward0>)\n",
      "tensor(2.4839, grad_fn=<NegBackward0>)\n",
      "tensor(2.4838, grad_fn=<NegBackward0>)\n",
      "tensor(2.4837, grad_fn=<NegBackward0>)\n",
      "tensor(2.4836, grad_fn=<NegBackward0>)\n",
      "tensor(2.4835, grad_fn=<NegBackward0>)\n",
      "tensor(2.4834, grad_fn=<NegBackward0>)\n",
      "tensor(2.4833, grad_fn=<NegBackward0>)\n",
      "tensor(2.4832, grad_fn=<NegBackward0>)\n",
      "tensor(2.4831, grad_fn=<NegBackward0>)\n",
      "tensor(2.4830, grad_fn=<NegBackward0>)\n",
      "tensor(2.4829, grad_fn=<NegBackward0>)\n",
      "tensor(2.4828, grad_fn=<NegBackward0>)\n",
      "tensor(2.4827, grad_fn=<NegBackward0>)\n",
      "tensor(2.4826, grad_fn=<NegBackward0>)\n",
      "tensor(2.4825, grad_fn=<NegBackward0>)\n",
      "tensor(2.4824, grad_fn=<NegBackward0>)\n",
      "tensor(2.4823, grad_fn=<NegBackward0>)\n",
      "tensor(2.4823, grad_fn=<NegBackward0>)\n",
      "tensor(2.4822, grad_fn=<NegBackward0>)\n",
      "tensor(2.4821, grad_fn=<NegBackward0>)\n",
      "tensor(2.4820, grad_fn=<NegBackward0>)\n",
      "tensor(2.4819, grad_fn=<NegBackward0>)\n",
      "tensor(2.4818, grad_fn=<NegBackward0>)\n",
      "tensor(2.4817, grad_fn=<NegBackward0>)\n",
      "tensor(2.4816, grad_fn=<NegBackward0>)\n",
      "tensor(2.4815, grad_fn=<NegBackward0>)\n",
      "tensor(2.4814, grad_fn=<NegBackward0>)\n",
      "tensor(2.4813, grad_fn=<NegBackward0>)\n",
      "tensor(2.4813, grad_fn=<NegBackward0>)\n",
      "tensor(2.4812, grad_fn=<NegBackward0>)\n",
      "tensor(2.4811, grad_fn=<NegBackward0>)\n",
      "tensor(2.4810, grad_fn=<NegBackward0>)\n",
      "tensor(2.4809, grad_fn=<NegBackward0>)\n",
      "tensor(2.4808, grad_fn=<NegBackward0>)\n",
      "tensor(2.4807, grad_fn=<NegBackward0>)\n",
      "tensor(2.4807, grad_fn=<NegBackward0>)\n",
      "tensor(2.4806, grad_fn=<NegBackward0>)\n",
      "tensor(2.4805, grad_fn=<NegBackward0>)\n",
      "tensor(2.4804, grad_fn=<NegBackward0>)\n",
      "tensor(2.4803, grad_fn=<NegBackward0>)\n",
      "tensor(2.4802, grad_fn=<NegBackward0>)\n",
      "tensor(2.4802, grad_fn=<NegBackward0>)\n",
      "tensor(2.4801, grad_fn=<NegBackward0>)\n",
      "tensor(2.4800, grad_fn=<NegBackward0>)\n",
      "tensor(2.4799, grad_fn=<NegBackward0>)\n",
      "tensor(2.4798, grad_fn=<NegBackward0>)\n",
      "tensor(2.4798, grad_fn=<NegBackward0>)\n",
      "tensor(2.4797, grad_fn=<NegBackward0>)\n",
      "tensor(2.4796, grad_fn=<NegBackward0>)\n",
      "tensor(2.4795, grad_fn=<NegBackward0>)\n",
      "tensor(2.4794, grad_fn=<NegBackward0>)\n",
      "tensor(2.4794, grad_fn=<NegBackward0>)\n",
      "tensor(2.4793, grad_fn=<NegBackward0>)\n",
      "tensor(2.4792, grad_fn=<NegBackward0>)\n",
      "tensor(2.4791, grad_fn=<NegBackward0>)\n",
      "tensor(2.4791, grad_fn=<NegBackward0>)\n",
      "tensor(2.4790, grad_fn=<NegBackward0>)\n",
      "tensor(2.4789, grad_fn=<NegBackward0>)\n",
      "tensor(2.4788, grad_fn=<NegBackward0>)\n",
      "tensor(2.4788, grad_fn=<NegBackward0>)\n",
      "tensor(2.4787, grad_fn=<NegBackward0>)\n",
      "tensor(2.4786, grad_fn=<NegBackward0>)\n",
      "tensor(2.4786, grad_fn=<NegBackward0>)\n",
      "tensor(2.4785, grad_fn=<NegBackward0>)\n",
      "tensor(2.4784, grad_fn=<NegBackward0>)\n",
      "tensor(2.4783, grad_fn=<NegBackward0>)\n",
      "tensor(2.4783, grad_fn=<NegBackward0>)\n",
      "tensor(2.4782, grad_fn=<NegBackward0>)\n",
      "tensor(2.4781, grad_fn=<NegBackward0>)\n",
      "tensor(2.4781, grad_fn=<NegBackward0>)\n",
      "tensor(2.4780, grad_fn=<NegBackward0>)\n",
      "tensor(2.4779, grad_fn=<NegBackward0>)\n",
      "tensor(2.4778, grad_fn=<NegBackward0>)\n",
      "tensor(2.4778, grad_fn=<NegBackward0>)\n",
      "tensor(2.4777, grad_fn=<NegBackward0>)\n",
      "tensor(2.4776, grad_fn=<NegBackward0>)\n",
      "tensor(2.4776, grad_fn=<NegBackward0>)\n",
      "tensor(2.4775, grad_fn=<NegBackward0>)\n",
      "tensor(2.4774, grad_fn=<NegBackward0>)\n",
      "tensor(2.4774, grad_fn=<NegBackward0>)\n",
      "tensor(2.4773, grad_fn=<NegBackward0>)\n",
      "tensor(2.4772, grad_fn=<NegBackward0>)\n",
      "tensor(2.4772, grad_fn=<NegBackward0>)\n",
      "tensor(2.4771, grad_fn=<NegBackward0>)\n",
      "tensor(2.4771, grad_fn=<NegBackward0>)\n",
      "tensor(2.4770, grad_fn=<NegBackward0>)\n",
      "tensor(2.4769, grad_fn=<NegBackward0>)\n",
      "tensor(2.4769, grad_fn=<NegBackward0>)\n",
      "tensor(2.4768, grad_fn=<NegBackward0>)\n",
      "tensor(2.4767, grad_fn=<NegBackward0>)\n",
      "tensor(2.4767, grad_fn=<NegBackward0>)\n",
      "tensor(2.4766, grad_fn=<NegBackward0>)\n",
      "tensor(2.4766, grad_fn=<NegBackward0>)\n",
      "tensor(2.4765, grad_fn=<NegBackward0>)\n",
      "tensor(2.4764, grad_fn=<NegBackward0>)\n",
      "tensor(2.4764, grad_fn=<NegBackward0>)\n",
      "tensor(2.4763, grad_fn=<NegBackward0>)\n",
      "tensor(2.4762, grad_fn=<NegBackward0>)\n",
      "tensor(2.4762, grad_fn=<NegBackward0>)\n",
      "tensor(2.4761, grad_fn=<NegBackward0>)\n",
      "tensor(2.4761, grad_fn=<NegBackward0>)\n",
      "tensor(2.4760, grad_fn=<NegBackward0>)\n",
      "tensor(2.4760, grad_fn=<NegBackward0>)\n",
      "tensor(2.4759, grad_fn=<NegBackward0>)\n",
      "tensor(2.4758, grad_fn=<NegBackward0>)\n",
      "tensor(2.4758, grad_fn=<NegBackward0>)\n",
      "tensor(2.4757, grad_fn=<NegBackward0>)\n",
      "tensor(2.4757, grad_fn=<NegBackward0>)\n",
      "tensor(2.4756, grad_fn=<NegBackward0>)\n",
      "tensor(2.4755, grad_fn=<NegBackward0>)\n",
      "tensor(2.4755, grad_fn=<NegBackward0>)\n",
      "tensor(2.4754, grad_fn=<NegBackward0>)\n",
      "tensor(2.4754, grad_fn=<NegBackward0>)\n",
      "tensor(2.4753, grad_fn=<NegBackward0>)\n",
      "tensor(2.4753, grad_fn=<NegBackward0>)\n",
      "tensor(2.4752, grad_fn=<NegBackward0>)\n",
      "tensor(2.4752, grad_fn=<NegBackward0>)\n",
      "tensor(2.4751, grad_fn=<NegBackward0>)\n",
      "tensor(2.4750, grad_fn=<NegBackward0>)\n",
      "tensor(2.4750, grad_fn=<NegBackward0>)\n",
      "tensor(2.4749, grad_fn=<NegBackward0>)\n",
      "tensor(2.4749, grad_fn=<NegBackward0>)\n",
      "tensor(2.4748, grad_fn=<NegBackward0>)\n",
      "tensor(2.4748, grad_fn=<NegBackward0>)\n",
      "tensor(2.4747, grad_fn=<NegBackward0>)\n",
      "tensor(2.4747, grad_fn=<NegBackward0>)\n",
      "tensor(2.4746, grad_fn=<NegBackward0>)\n",
      "tensor(2.4746, grad_fn=<NegBackward0>)\n",
      "tensor(2.4745, grad_fn=<NegBackward0>)\n",
      "tensor(2.4745, grad_fn=<NegBackward0>)\n",
      "tensor(2.4744, grad_fn=<NegBackward0>)\n",
      "tensor(2.4744, grad_fn=<NegBackward0>)\n",
      "tensor(2.4743, grad_fn=<NegBackward0>)\n",
      "tensor(2.4743, grad_fn=<NegBackward0>)\n",
      "tensor(2.4742, grad_fn=<NegBackward0>)\n",
      "tensor(2.4742, grad_fn=<NegBackward0>)\n",
      "tensor(2.4741, grad_fn=<NegBackward0>)\n",
      "tensor(2.4741, grad_fn=<NegBackward0>)\n",
      "tensor(2.4740, grad_fn=<NegBackward0>)\n",
      "tensor(2.4740, grad_fn=<NegBackward0>)\n",
      "tensor(2.4739, grad_fn=<NegBackward0>)\n",
      "tensor(2.4739, grad_fn=<NegBackward0>)\n",
      "tensor(2.4738, grad_fn=<NegBackward0>)\n",
      "tensor(2.4738, grad_fn=<NegBackward0>)\n",
      "tensor(2.4737, grad_fn=<NegBackward0>)\n",
      "tensor(2.4737, grad_fn=<NegBackward0>)\n",
      "tensor(2.4736, grad_fn=<NegBackward0>)\n",
      "tensor(2.4736, grad_fn=<NegBackward0>)\n",
      "tensor(2.4735, grad_fn=<NegBackward0>)\n",
      "tensor(2.4735, grad_fn=<NegBackward0>)\n",
      "tensor(2.4734, grad_fn=<NegBackward0>)\n",
      "tensor(2.4734, grad_fn=<NegBackward0>)\n",
      "tensor(2.4733, grad_fn=<NegBackward0>)\n",
      "tensor(2.4733, grad_fn=<NegBackward0>)\n",
      "tensor(2.4733, grad_fn=<NegBackward0>)\n",
      "tensor(2.4732, grad_fn=<NegBackward0>)\n",
      "tensor(2.4732, grad_fn=<NegBackward0>)\n",
      "tensor(2.4731, grad_fn=<NegBackward0>)\n",
      "tensor(2.4731, grad_fn=<NegBackward0>)\n",
      "tensor(2.4730, grad_fn=<NegBackward0>)\n",
      "tensor(2.4730, grad_fn=<NegBackward0>)\n",
      "tensor(2.4729, grad_fn=<NegBackward0>)\n",
      "tensor(2.4729, grad_fn=<NegBackward0>)\n",
      "tensor(2.4728, grad_fn=<NegBackward0>)\n",
      "tensor(2.4728, grad_fn=<NegBackward0>)\n",
      "tensor(2.4728, grad_fn=<NegBackward0>)\n",
      "tensor(2.4727, grad_fn=<NegBackward0>)\n",
      "tensor(2.4727, grad_fn=<NegBackward0>)\n",
      "tensor(2.4726, grad_fn=<NegBackward0>)\n",
      "tensor(2.4726, grad_fn=<NegBackward0>)\n",
      "tensor(2.4725, grad_fn=<NegBackward0>)\n",
      "tensor(2.4725, grad_fn=<NegBackward0>)\n",
      "tensor(2.4725, grad_fn=<NegBackward0>)\n",
      "tensor(2.4724, grad_fn=<NegBackward0>)\n",
      "tensor(2.4724, grad_fn=<NegBackward0>)\n",
      "tensor(2.4723, grad_fn=<NegBackward0>)\n",
      "tensor(2.4723, grad_fn=<NegBackward0>)\n",
      "tensor(2.4723, grad_fn=<NegBackward0>)\n",
      "tensor(2.4722, grad_fn=<NegBackward0>)\n",
      "tensor(2.4722, grad_fn=<NegBackward0>)\n",
      "tensor(2.4721, grad_fn=<NegBackward0>)\n",
      "tensor(2.4721, grad_fn=<NegBackward0>)\n",
      "tensor(2.4720, grad_fn=<NegBackward0>)\n",
      "tensor(2.4720, grad_fn=<NegBackward0>)\n",
      "tensor(2.4720, grad_fn=<NegBackward0>)\n",
      "tensor(2.4719, grad_fn=<NegBackward0>)\n",
      "tensor(2.4719, grad_fn=<NegBackward0>)\n",
      "tensor(2.4718, grad_fn=<NegBackward0>)\n",
      "tensor(2.4718, grad_fn=<NegBackward0>)\n",
      "tensor(2.4718, grad_fn=<NegBackward0>)\n",
      "tensor(2.4717, grad_fn=<NegBackward0>)\n",
      "tensor(2.4717, grad_fn=<NegBackward0>)\n",
      "tensor(2.4716, grad_fn=<NegBackward0>)\n",
      "tensor(2.4716, grad_fn=<NegBackward0>)\n",
      "tensor(2.4716, grad_fn=<NegBackward0>)\n",
      "tensor(2.4715, grad_fn=<NegBackward0>)\n",
      "tensor(2.4715, grad_fn=<NegBackward0>)\n",
      "tensor(2.4715, grad_fn=<NegBackward0>)\n",
      "tensor(2.4714, grad_fn=<NegBackward0>)\n",
      "tensor(2.4714, grad_fn=<NegBackward0>)\n",
      "tensor(2.4713, grad_fn=<NegBackward0>)\n",
      "tensor(2.4713, grad_fn=<NegBackward0>)\n",
      "tensor(2.4713, grad_fn=<NegBackward0>)\n",
      "tensor(2.4712, grad_fn=<NegBackward0>)\n",
      "tensor(2.4712, grad_fn=<NegBackward0>)\n",
      "tensor(2.4712, grad_fn=<NegBackward0>)\n",
      "tensor(2.4711, grad_fn=<NegBackward0>)\n",
      "tensor(2.4711, grad_fn=<NegBackward0>)\n",
      "tensor(2.4710, grad_fn=<NegBackward0>)\n",
      "tensor(2.4710, grad_fn=<NegBackward0>)\n",
      "tensor(2.4710, grad_fn=<NegBackward0>)\n",
      "tensor(2.4709, grad_fn=<NegBackward0>)\n",
      "tensor(2.4709, grad_fn=<NegBackward0>)\n",
      "tensor(2.4709, grad_fn=<NegBackward0>)\n",
      "tensor(2.4708, grad_fn=<NegBackward0>)\n",
      "tensor(2.4708, grad_fn=<NegBackward0>)\n",
      "tensor(2.4708, grad_fn=<NegBackward0>)\n",
      "tensor(2.4707, grad_fn=<NegBackward0>)\n",
      "tensor(2.4707, grad_fn=<NegBackward0>)\n",
      "tensor(2.4707, grad_fn=<NegBackward0>)\n",
      "tensor(2.4706, grad_fn=<NegBackward0>)\n",
      "tensor(2.4706, grad_fn=<NegBackward0>)\n",
      "tensor(2.4705, grad_fn=<NegBackward0>)\n",
      "tensor(2.4705, grad_fn=<NegBackward0>)\n",
      "tensor(2.4705, grad_fn=<NegBackward0>)\n",
      "tensor(2.4704, grad_fn=<NegBackward0>)\n",
      "tensor(2.4704, grad_fn=<NegBackward0>)\n",
      "tensor(2.4704, grad_fn=<NegBackward0>)\n",
      "tensor(2.4703, grad_fn=<NegBackward0>)\n",
      "tensor(2.4703, grad_fn=<NegBackward0>)\n",
      "tensor(2.4703, grad_fn=<NegBackward0>)\n",
      "tensor(2.4702, grad_fn=<NegBackward0>)\n",
      "tensor(2.4702, grad_fn=<NegBackward0>)\n",
      "tensor(2.4702, grad_fn=<NegBackward0>)\n",
      "tensor(2.4701, grad_fn=<NegBackward0>)\n",
      "tensor(2.4701, grad_fn=<NegBackward0>)\n",
      "tensor(2.4701, grad_fn=<NegBackward0>)\n",
      "tensor(2.4700, grad_fn=<NegBackward0>)\n",
      "tensor(2.4700, grad_fn=<NegBackward0>)\n",
      "tensor(2.4700, grad_fn=<NegBackward0>)\n",
      "tensor(2.4699, grad_fn=<NegBackward0>)\n",
      "tensor(2.4699, grad_fn=<NegBackward0>)\n",
      "tensor(2.4699, grad_fn=<NegBackward0>)\n",
      "tensor(2.4699, grad_fn=<NegBackward0>)\n",
      "tensor(2.4698, grad_fn=<NegBackward0>)\n",
      "tensor(2.4698, grad_fn=<NegBackward0>)\n",
      "tensor(2.4698, grad_fn=<NegBackward0>)\n",
      "tensor(2.4697, grad_fn=<NegBackward0>)\n",
      "tensor(2.4697, grad_fn=<NegBackward0>)\n",
      "tensor(2.4697, grad_fn=<NegBackward0>)\n",
      "tensor(2.4696, grad_fn=<NegBackward0>)\n",
      "tensor(2.4696, grad_fn=<NegBackward0>)\n",
      "tensor(2.4696, grad_fn=<NegBackward0>)\n",
      "tensor(2.4695, grad_fn=<NegBackward0>)\n",
      "tensor(2.4695, grad_fn=<NegBackward0>)\n",
      "tensor(2.4695, grad_fn=<NegBackward0>)\n",
      "tensor(2.4694, grad_fn=<NegBackward0>)\n",
      "tensor(2.4694, grad_fn=<NegBackward0>)\n",
      "tensor(2.4694, grad_fn=<NegBackward0>)\n",
      "tensor(2.4694, grad_fn=<NegBackward0>)\n",
      "tensor(2.4693, grad_fn=<NegBackward0>)\n",
      "tensor(2.4693, grad_fn=<NegBackward0>)\n",
      "tensor(2.4693, grad_fn=<NegBackward0>)\n",
      "tensor(2.4692, grad_fn=<NegBackward0>)\n",
      "tensor(2.4692, grad_fn=<NegBackward0>)\n",
      "tensor(2.4692, grad_fn=<NegBackward0>)\n",
      "tensor(2.4692, grad_fn=<NegBackward0>)\n",
      "tensor(2.4691, grad_fn=<NegBackward0>)\n",
      "tensor(2.4691, grad_fn=<NegBackward0>)\n",
      "tensor(2.4691, grad_fn=<NegBackward0>)\n",
      "tensor(2.4690, grad_fn=<NegBackward0>)\n",
      "tensor(2.4690, grad_fn=<NegBackward0>)\n",
      "tensor(2.4690, grad_fn=<NegBackward0>)\n",
      "tensor(2.4689, grad_fn=<NegBackward0>)\n",
      "tensor(2.4689, grad_fn=<NegBackward0>)\n",
      "tensor(2.4689, grad_fn=<NegBackward0>)\n",
      "tensor(2.4689, grad_fn=<NegBackward0>)\n",
      "tensor(2.4688, grad_fn=<NegBackward0>)\n",
      "tensor(2.4688, grad_fn=<NegBackward0>)\n",
      "tensor(2.4688, grad_fn=<NegBackward0>)\n",
      "tensor(2.4688, grad_fn=<NegBackward0>)\n",
      "tensor(2.4687, grad_fn=<NegBackward0>)\n",
      "tensor(2.4687, grad_fn=<NegBackward0>)\n",
      "tensor(2.4687, grad_fn=<NegBackward0>)\n",
      "tensor(2.4686, grad_fn=<NegBackward0>)\n",
      "tensor(2.4686, grad_fn=<NegBackward0>)\n",
      "tensor(2.4686, grad_fn=<NegBackward0>)\n",
      "tensor(2.4686, grad_fn=<NegBackward0>)\n",
      "tensor(2.4685, grad_fn=<NegBackward0>)\n",
      "tensor(2.4685, grad_fn=<NegBackward0>)\n",
      "tensor(2.4685, grad_fn=<NegBackward0>)\n",
      "tensor(2.4685, grad_fn=<NegBackward0>)\n",
      "tensor(2.4684, grad_fn=<NegBackward0>)\n",
      "tensor(2.4684, grad_fn=<NegBackward0>)\n",
      "tensor(2.4684, grad_fn=<NegBackward0>)\n",
      "tensor(2.4683, grad_fn=<NegBackward0>)\n",
      "tensor(2.4683, grad_fn=<NegBackward0>)\n",
      "tensor(2.4683, grad_fn=<NegBackward0>)\n",
      "tensor(2.4683, grad_fn=<NegBackward0>)\n",
      "tensor(2.4682, grad_fn=<NegBackward0>)\n",
      "tensor(2.4682, grad_fn=<NegBackward0>)\n",
      "tensor(2.4682, grad_fn=<NegBackward0>)\n",
      "tensor(2.4682, grad_fn=<NegBackward0>)\n",
      "tensor(2.4681, grad_fn=<NegBackward0>)\n",
      "tensor(2.4681, grad_fn=<NegBackward0>)\n",
      "tensor(2.4681, grad_fn=<NegBackward0>)\n",
      "tensor(2.4681, grad_fn=<NegBackward0>)\n",
      "tensor(2.4680, grad_fn=<NegBackward0>)\n",
      "tensor(2.4680, grad_fn=<NegBackward0>)\n",
      "tensor(2.4680, grad_fn=<NegBackward0>)\n",
      "tensor(2.4680, grad_fn=<NegBackward0>)\n",
      "tensor(2.4679, grad_fn=<NegBackward0>)\n",
      "tensor(2.4679, grad_fn=<NegBackward0>)\n",
      "tensor(2.4679, grad_fn=<NegBackward0>)\n",
      "tensor(2.4679, grad_fn=<NegBackward0>)\n",
      "tensor(2.4678, grad_fn=<NegBackward0>)\n",
      "tensor(2.4678, grad_fn=<NegBackward0>)\n",
      "tensor(2.4678, grad_fn=<NegBackward0>)\n",
      "tensor(2.4678, grad_fn=<NegBackward0>)\n",
      "tensor(2.4677, grad_fn=<NegBackward0>)\n",
      "tensor(2.4677, grad_fn=<NegBackward0>)\n",
      "tensor(2.4677, grad_fn=<NegBackward0>)\n",
      "tensor(2.4677, grad_fn=<NegBackward0>)\n",
      "tensor(2.4676, grad_fn=<NegBackward0>)\n",
      "tensor(2.4676, grad_fn=<NegBackward0>)\n",
      "tensor(2.4676, grad_fn=<NegBackward0>)\n",
      "tensor(2.4676, grad_fn=<NegBackward0>)\n",
      "tensor(2.4675, grad_fn=<NegBackward0>)\n",
      "tensor(2.4675, grad_fn=<NegBackward0>)\n",
      "tensor(2.4675, grad_fn=<NegBackward0>)\n",
      "tensor(2.4675, grad_fn=<NegBackward0>)\n",
      "tensor(2.4675, grad_fn=<NegBackward0>)\n",
      "tensor(2.4674, grad_fn=<NegBackward0>)\n",
      "tensor(2.4674, grad_fn=<NegBackward0>)\n",
      "tensor(2.4674, grad_fn=<NegBackward0>)\n",
      "tensor(2.4674, grad_fn=<NegBackward0>)\n",
      "tensor(2.4673, grad_fn=<NegBackward0>)\n",
      "tensor(2.4673, grad_fn=<NegBackward0>)\n",
      "tensor(2.4673, grad_fn=<NegBackward0>)\n",
      "tensor(2.4673, grad_fn=<NegBackward0>)\n",
      "tensor(2.4672, grad_fn=<NegBackward0>)\n",
      "tensor(2.4672, grad_fn=<NegBackward0>)\n",
      "tensor(2.4672, grad_fn=<NegBackward0>)\n",
      "tensor(2.4672, grad_fn=<NegBackward0>)\n",
      "tensor(2.4672, grad_fn=<NegBackward0>)\n",
      "tensor(2.4671, grad_fn=<NegBackward0>)\n",
      "tensor(2.4671, grad_fn=<NegBackward0>)\n",
      "tensor(2.4671, grad_fn=<NegBackward0>)\n",
      "tensor(2.4671, grad_fn=<NegBackward0>)\n",
      "tensor(2.4670, grad_fn=<NegBackward0>)\n",
      "tensor(2.4670, grad_fn=<NegBackward0>)\n",
      "tensor(2.4670, grad_fn=<NegBackward0>)\n",
      "tensor(2.4670, grad_fn=<NegBackward0>)\n",
      "tensor(2.4670, grad_fn=<NegBackward0>)\n",
      "tensor(2.4669, grad_fn=<NegBackward0>)\n",
      "tensor(2.4669, grad_fn=<NegBackward0>)\n",
      "tensor(2.4669, grad_fn=<NegBackward0>)\n",
      "tensor(2.4669, grad_fn=<NegBackward0>)\n",
      "tensor(2.4669, grad_fn=<NegBackward0>)\n",
      "tensor(2.4668, grad_fn=<NegBackward0>)\n",
      "tensor(2.4668, grad_fn=<NegBackward0>)\n",
      "tensor(2.4668, grad_fn=<NegBackward0>)\n",
      "tensor(2.4668, grad_fn=<NegBackward0>)\n",
      "tensor(2.4667, grad_fn=<NegBackward0>)\n",
      "tensor(2.4667, grad_fn=<NegBackward0>)\n",
      "tensor(2.4667, grad_fn=<NegBackward0>)\n",
      "tensor(2.4667, grad_fn=<NegBackward0>)\n",
      "tensor(2.4667, grad_fn=<NegBackward0>)\n",
      "tensor(2.4666, grad_fn=<NegBackward0>)\n",
      "tensor(2.4666, grad_fn=<NegBackward0>)\n",
      "tensor(2.4666, grad_fn=<NegBackward0>)\n",
      "tensor(2.4666, grad_fn=<NegBackward0>)\n",
      "tensor(2.4666, grad_fn=<NegBackward0>)\n",
      "tensor(2.4665, grad_fn=<NegBackward0>)\n",
      "tensor(2.4665, grad_fn=<NegBackward0>)\n",
      "tensor(2.4665, grad_fn=<NegBackward0>)\n",
      "tensor(2.4665, grad_fn=<NegBackward0>)\n",
      "tensor(2.4665, grad_fn=<NegBackward0>)\n",
      "tensor(2.4664, grad_fn=<NegBackward0>)\n",
      "tensor(2.4664, grad_fn=<NegBackward0>)\n",
      "tensor(2.4664, grad_fn=<NegBackward0>)\n",
      "tensor(2.4664, grad_fn=<NegBackward0>)\n",
      "tensor(2.4664, grad_fn=<NegBackward0>)\n",
      "tensor(2.4663, grad_fn=<NegBackward0>)\n",
      "tensor(2.4663, grad_fn=<NegBackward0>)\n",
      "tensor(2.4663, grad_fn=<NegBackward0>)\n",
      "tensor(2.4663, grad_fn=<NegBackward0>)\n",
      "tensor(2.4663, grad_fn=<NegBackward0>)\n",
      "tensor(2.4662, grad_fn=<NegBackward0>)\n",
      "tensor(2.4662, grad_fn=<NegBackward0>)\n",
      "tensor(2.4662, grad_fn=<NegBackward0>)\n",
      "tensor(2.4662, grad_fn=<NegBackward0>)\n",
      "tensor(2.4662, grad_fn=<NegBackward0>)\n",
      "tensor(2.4661, grad_fn=<NegBackward0>)\n",
      "tensor(2.4661, grad_fn=<NegBackward0>)\n",
      "tensor(2.4661, grad_fn=<NegBackward0>)\n",
      "tensor(2.4661, grad_fn=<NegBackward0>)\n",
      "tensor(2.4661, grad_fn=<NegBackward0>)\n",
      "tensor(2.4660, grad_fn=<NegBackward0>)\n",
      "tensor(2.4660, grad_fn=<NegBackward0>)\n",
      "tensor(2.4660, grad_fn=<NegBackward0>)\n",
      "tensor(2.4660, grad_fn=<NegBackward0>)\n",
      "tensor(2.4660, grad_fn=<NegBackward0>)\n",
      "tensor(2.4660, grad_fn=<NegBackward0>)\n",
      "tensor(2.4659, grad_fn=<NegBackward0>)\n",
      "tensor(2.4659, grad_fn=<NegBackward0>)\n",
      "tensor(2.4659, grad_fn=<NegBackward0>)\n",
      "tensor(2.4659, grad_fn=<NegBackward0>)\n",
      "tensor(2.4659, grad_fn=<NegBackward0>)\n",
      "tensor(2.4658, grad_fn=<NegBackward0>)\n",
      "tensor(2.4658, grad_fn=<NegBackward0>)\n",
      "tensor(2.4658, grad_fn=<NegBackward0>)\n",
      "tensor(2.4658, grad_fn=<NegBackward0>)\n",
      "tensor(2.4658, grad_fn=<NegBackward0>)\n",
      "tensor(2.4658, grad_fn=<NegBackward0>)\n",
      "tensor(2.4657, grad_fn=<NegBackward0>)\n",
      "tensor(2.4657, grad_fn=<NegBackward0>)\n",
      "tensor(2.4657, grad_fn=<NegBackward0>)\n",
      "tensor(2.4657, grad_fn=<NegBackward0>)\n",
      "tensor(2.4657, grad_fn=<NegBackward0>)\n",
      "tensor(2.4656, grad_fn=<NegBackward0>)\n",
      "tensor(2.4656, grad_fn=<NegBackward0>)\n",
      "tensor(2.4656, grad_fn=<NegBackward0>)\n",
      "tensor(2.4656, grad_fn=<NegBackward0>)\n",
      "tensor(2.4656, grad_fn=<NegBackward0>)\n",
      "tensor(2.4656, grad_fn=<NegBackward0>)\n",
      "tensor(2.4655, grad_fn=<NegBackward0>)\n",
      "tensor(2.4655, grad_fn=<NegBackward0>)\n",
      "tensor(2.4655, grad_fn=<NegBackward0>)\n",
      "tensor(2.4655, grad_fn=<NegBackward0>)\n",
      "tensor(2.4655, grad_fn=<NegBackward0>)\n",
      "tensor(2.4655, grad_fn=<NegBackward0>)\n",
      "tensor(2.4654, grad_fn=<NegBackward0>)\n",
      "tensor(2.4654, grad_fn=<NegBackward0>)\n",
      "tensor(2.4654, grad_fn=<NegBackward0>)\n",
      "tensor(2.4654, grad_fn=<NegBackward0>)\n",
      "tensor(2.4654, grad_fn=<NegBackward0>)\n",
      "tensor(2.4654, grad_fn=<NegBackward0>)\n",
      "tensor(2.4653, grad_fn=<NegBackward0>)\n",
      "tensor(2.4653, grad_fn=<NegBackward0>)\n",
      "tensor(2.4653, grad_fn=<NegBackward0>)\n",
      "tensor(2.4653, grad_fn=<NegBackward0>)\n",
      "tensor(2.4653, grad_fn=<NegBackward0>)\n",
      "tensor(2.4652, grad_fn=<NegBackward0>)\n",
      "tensor(2.4652, grad_fn=<NegBackward0>)\n",
      "tensor(2.4652, grad_fn=<NegBackward0>)\n",
      "tensor(2.4652, grad_fn=<NegBackward0>)\n",
      "tensor(2.4652, grad_fn=<NegBackward0>)\n",
      "tensor(2.4652, grad_fn=<NegBackward0>)\n",
      "tensor(2.4652, grad_fn=<NegBackward0>)\n",
      "tensor(2.4651, grad_fn=<NegBackward0>)\n",
      "tensor(2.4651, grad_fn=<NegBackward0>)\n",
      "tensor(2.4651, grad_fn=<NegBackward0>)\n",
      "tensor(2.4651, grad_fn=<NegBackward0>)\n",
      "tensor(2.4651, grad_fn=<NegBackward0>)\n",
      "tensor(2.4651, grad_fn=<NegBackward0>)\n",
      "tensor(2.4650, grad_fn=<NegBackward0>)\n",
      "tensor(2.4650, grad_fn=<NegBackward0>)\n",
      "tensor(2.4650, grad_fn=<NegBackward0>)\n",
      "tensor(2.4650, grad_fn=<NegBackward0>)\n",
      "tensor(2.4650, grad_fn=<NegBackward0>)\n",
      "tensor(2.4650, grad_fn=<NegBackward0>)\n",
      "tensor(2.4649, grad_fn=<NegBackward0>)\n",
      "tensor(2.4649, grad_fn=<NegBackward0>)\n",
      "tensor(2.4649, grad_fn=<NegBackward0>)\n",
      "tensor(2.4649, grad_fn=<NegBackward0>)\n",
      "tensor(2.4649, grad_fn=<NegBackward0>)\n",
      "tensor(2.4649, grad_fn=<NegBackward0>)\n",
      "tensor(2.4648, grad_fn=<NegBackward0>)\n",
      "tensor(2.4648, grad_fn=<NegBackward0>)\n",
      "tensor(2.4648, grad_fn=<NegBackward0>)\n",
      "tensor(2.4648, grad_fn=<NegBackward0>)\n",
      "tensor(2.4648, grad_fn=<NegBackward0>)\n",
      "tensor(2.4648, grad_fn=<NegBackward0>)\n",
      "tensor(2.4648, grad_fn=<NegBackward0>)\n",
      "tensor(2.4647, grad_fn=<NegBackward0>)\n",
      "tensor(2.4647, grad_fn=<NegBackward0>)\n",
      "tensor(2.4647, grad_fn=<NegBackward0>)\n",
      "tensor(2.4647, grad_fn=<NegBackward0>)\n",
      "tensor(2.4647, grad_fn=<NegBackward0>)\n",
      "tensor(2.4647, grad_fn=<NegBackward0>)\n",
      "tensor(2.4646, grad_fn=<NegBackward0>)\n",
      "tensor(2.4646, grad_fn=<NegBackward0>)\n",
      "tensor(2.4646, grad_fn=<NegBackward0>)\n",
      "tensor(2.4646, grad_fn=<NegBackward0>)\n",
      "tensor(2.4646, grad_fn=<NegBackward0>)\n",
      "tensor(2.4646, grad_fn=<NegBackward0>)\n",
      "tensor(2.4646, grad_fn=<NegBackward0>)\n",
      "tensor(2.4645, grad_fn=<NegBackward0>)\n",
      "tensor(2.4645, grad_fn=<NegBackward0>)\n",
      "tensor(2.4645, grad_fn=<NegBackward0>)\n",
      "tensor(2.4645, grad_fn=<NegBackward0>)\n",
      "tensor(2.4645, grad_fn=<NegBackward0>)\n",
      "tensor(2.4645, grad_fn=<NegBackward0>)\n",
      "tensor(2.4645, grad_fn=<NegBackward0>)\n",
      "tensor(2.4644, grad_fn=<NegBackward0>)\n",
      "tensor(2.4644, grad_fn=<NegBackward0>)\n",
      "tensor(2.4644, grad_fn=<NegBackward0>)\n",
      "tensor(2.4644, grad_fn=<NegBackward0>)\n",
      "tensor(2.4644, grad_fn=<NegBackward0>)\n",
      "tensor(2.4644, grad_fn=<NegBackward0>)\n",
      "tensor(2.4644, grad_fn=<NegBackward0>)\n",
      "tensor(2.4643, grad_fn=<NegBackward0>)\n",
      "tensor(2.4643, grad_fn=<NegBackward0>)\n",
      "tensor(2.4643, grad_fn=<NegBackward0>)\n",
      "tensor(2.4643, grad_fn=<NegBackward0>)\n",
      "tensor(2.4643, grad_fn=<NegBackward0>)\n",
      "tensor(2.4643, grad_fn=<NegBackward0>)\n",
      "tensor(2.4643, grad_fn=<NegBackward0>)\n",
      "tensor(2.4642, grad_fn=<NegBackward0>)\n",
      "tensor(2.4642, grad_fn=<NegBackward0>)\n",
      "tensor(2.4642, grad_fn=<NegBackward0>)\n",
      "tensor(2.4642, grad_fn=<NegBackward0>)\n",
      "tensor(2.4642, grad_fn=<NegBackward0>)\n",
      "tensor(2.4642, grad_fn=<NegBackward0>)\n",
      "tensor(2.4642, grad_fn=<NegBackward0>)\n",
      "tensor(2.4641, grad_fn=<NegBackward0>)\n",
      "tensor(2.4641, grad_fn=<NegBackward0>)\n",
      "tensor(2.4641, grad_fn=<NegBackward0>)\n",
      "tensor(2.4641, grad_fn=<NegBackward0>)\n",
      "tensor(2.4641, grad_fn=<NegBackward0>)\n",
      "tensor(2.4641, grad_fn=<NegBackward0>)\n",
      "tensor(2.4641, grad_fn=<NegBackward0>)\n",
      "tensor(2.4641, grad_fn=<NegBackward0>)\n",
      "tensor(2.4640, grad_fn=<NegBackward0>)\n",
      "tensor(2.4640, grad_fn=<NegBackward0>)\n",
      "tensor(2.4640, grad_fn=<NegBackward0>)\n",
      "tensor(2.4640, grad_fn=<NegBackward0>)\n",
      "tensor(2.4640, grad_fn=<NegBackward0>)\n",
      "tensor(2.4640, grad_fn=<NegBackward0>)\n",
      "tensor(2.4640, grad_fn=<NegBackward0>)\n",
      "tensor(2.4639, grad_fn=<NegBackward0>)\n",
      "tensor(2.4639, grad_fn=<NegBackward0>)\n",
      "tensor(2.4639, grad_fn=<NegBackward0>)\n",
      "tensor(2.4639, grad_fn=<NegBackward0>)\n",
      "tensor(2.4639, grad_fn=<NegBackward0>)\n",
      "tensor(2.4639, grad_fn=<NegBackward0>)\n",
      "tensor(2.4639, grad_fn=<NegBackward0>)\n",
      "tensor(2.4639, grad_fn=<NegBackward0>)\n",
      "tensor(2.4638, grad_fn=<NegBackward0>)\n",
      "tensor(2.4638, grad_fn=<NegBackward0>)\n",
      "tensor(2.4638, grad_fn=<NegBackward0>)\n",
      "tensor(2.4638, grad_fn=<NegBackward0>)\n",
      "tensor(2.4638, grad_fn=<NegBackward0>)\n",
      "tensor(2.4638, grad_fn=<NegBackward0>)\n",
      "tensor(2.4638, grad_fn=<NegBackward0>)\n",
      "tensor(2.4638, grad_fn=<NegBackward0>)\n",
      "tensor(2.4637, grad_fn=<NegBackward0>)\n",
      "tensor(2.4637, grad_fn=<NegBackward0>)\n",
      "tensor(2.4637, grad_fn=<NegBackward0>)\n",
      "tensor(2.4637, grad_fn=<NegBackward0>)\n",
      "tensor(2.4637, grad_fn=<NegBackward0>)\n",
      "tensor(2.4637, grad_fn=<NegBackward0>)\n",
      "tensor(2.4637, grad_fn=<NegBackward0>)\n",
      "tensor(2.4637, grad_fn=<NegBackward0>)\n",
      "tensor(2.4636, grad_fn=<NegBackward0>)\n",
      "tensor(2.4636, grad_fn=<NegBackward0>)\n",
      "tensor(2.4636, grad_fn=<NegBackward0>)\n",
      "tensor(2.4636, grad_fn=<NegBackward0>)\n",
      "tensor(2.4636, grad_fn=<NegBackward0>)\n",
      "tensor(2.4636, grad_fn=<NegBackward0>)\n",
      "tensor(2.4636, grad_fn=<NegBackward0>)\n",
      "tensor(2.4636, grad_fn=<NegBackward0>)\n",
      "tensor(2.4635, grad_fn=<NegBackward0>)\n",
      "tensor(2.4635, grad_fn=<NegBackward0>)\n",
      "tensor(2.4635, grad_fn=<NegBackward0>)\n",
      "tensor(2.4635, grad_fn=<NegBackward0>)\n",
      "tensor(2.4635, grad_fn=<NegBackward0>)\n",
      "tensor(2.4635, grad_fn=<NegBackward0>)\n",
      "tensor(2.4635, grad_fn=<NegBackward0>)\n",
      "tensor(2.4635, grad_fn=<NegBackward0>)\n",
      "tensor(2.4634, grad_fn=<NegBackward0>)\n",
      "tensor(2.4634, grad_fn=<NegBackward0>)\n",
      "tensor(2.4634, grad_fn=<NegBackward0>)\n",
      "tensor(2.4634, grad_fn=<NegBackward0>)\n",
      "tensor(2.4634, grad_fn=<NegBackward0>)\n",
      "tensor(2.4634, grad_fn=<NegBackward0>)\n",
      "tensor(2.4634, grad_fn=<NegBackward0>)\n",
      "tensor(2.4634, grad_fn=<NegBackward0>)\n",
      "tensor(2.4634, grad_fn=<NegBackward0>)\n",
      "tensor(2.4633, grad_fn=<NegBackward0>)\n",
      "tensor(2.4633, grad_fn=<NegBackward0>)\n",
      "tensor(2.4633, grad_fn=<NegBackward0>)\n",
      "tensor(2.4633, grad_fn=<NegBackward0>)\n",
      "tensor(2.4633, grad_fn=<NegBackward0>)\n",
      "tensor(2.4633, grad_fn=<NegBackward0>)\n",
      "tensor(2.4633, grad_fn=<NegBackward0>)\n",
      "tensor(2.4633, grad_fn=<NegBackward0>)\n",
      "tensor(2.4632, grad_fn=<NegBackward0>)\n",
      "tensor(2.4632, grad_fn=<NegBackward0>)\n",
      "tensor(2.4632, grad_fn=<NegBackward0>)\n",
      "tensor(2.4632, grad_fn=<NegBackward0>)\n",
      "tensor(2.4632, grad_fn=<NegBackward0>)\n",
      "tensor(2.4632, grad_fn=<NegBackward0>)\n",
      "tensor(2.4632, grad_fn=<NegBackward0>)\n",
      "tensor(2.4632, grad_fn=<NegBackward0>)\n",
      "tensor(2.4632, grad_fn=<NegBackward0>)\n",
      "tensor(2.4631, grad_fn=<NegBackward0>)\n",
      "tensor(2.4631, grad_fn=<NegBackward0>)\n",
      "tensor(2.4631, grad_fn=<NegBackward0>)\n",
      "tensor(2.4631, grad_fn=<NegBackward0>)\n",
      "tensor(2.4631, grad_fn=<NegBackward0>)\n",
      "tensor(2.4631, grad_fn=<NegBackward0>)\n",
      "tensor(2.4631, grad_fn=<NegBackward0>)\n",
      "tensor(2.4631, grad_fn=<NegBackward0>)\n",
      "tensor(2.4631, grad_fn=<NegBackward0>)\n",
      "tensor(2.4630, grad_fn=<NegBackward0>)\n",
      "tensor(2.4630, grad_fn=<NegBackward0>)\n",
      "tensor(2.4630, grad_fn=<NegBackward0>)\n",
      "tensor(2.4630, grad_fn=<NegBackward0>)\n",
      "tensor(2.4630, grad_fn=<NegBackward0>)\n",
      "tensor(2.4630, grad_fn=<NegBackward0>)\n",
      "tensor(2.4630, grad_fn=<NegBackward0>)\n",
      "tensor(2.4630, grad_fn=<NegBackward0>)\n",
      "tensor(2.4630, grad_fn=<NegBackward0>)\n",
      "tensor(2.4629, grad_fn=<NegBackward0>)\n",
      "tensor(2.4629, grad_fn=<NegBackward0>)\n",
      "tensor(2.4629, grad_fn=<NegBackward0>)\n",
      "tensor(2.4629, grad_fn=<NegBackward0>)\n",
      "tensor(2.4629, grad_fn=<NegBackward0>)\n",
      "tensor(2.4629, grad_fn=<NegBackward0>)\n",
      "tensor(2.4629, grad_fn=<NegBackward0>)\n",
      "tensor(2.4629, grad_fn=<NegBackward0>)\n",
      "tensor(2.4629, grad_fn=<NegBackward0>)\n",
      "tensor(2.4628, grad_fn=<NegBackward0>)\n",
      "tensor(2.4628, grad_fn=<NegBackward0>)\n",
      "tensor(2.4628, grad_fn=<NegBackward0>)\n",
      "tensor(2.4628, grad_fn=<NegBackward0>)\n",
      "tensor(2.4628, grad_fn=<NegBackward0>)\n",
      "tensor(2.4628, grad_fn=<NegBackward0>)\n",
      "tensor(2.4628, grad_fn=<NegBackward0>)\n",
      "tensor(2.4628, grad_fn=<NegBackward0>)\n",
      "tensor(2.4628, grad_fn=<NegBackward0>)\n",
      "tensor(2.4628, grad_fn=<NegBackward0>)\n",
      "tensor(2.4627, grad_fn=<NegBackward0>)\n",
      "tensor(2.4627, grad_fn=<NegBackward0>)\n",
      "tensor(2.4627, grad_fn=<NegBackward0>)\n",
      "tensor(2.4627, grad_fn=<NegBackward0>)\n",
      "tensor(2.4627, grad_fn=<NegBackward0>)\n",
      "tensor(2.4627, grad_fn=<NegBackward0>)\n",
      "tensor(2.4627, grad_fn=<NegBackward0>)\n",
      "tensor(2.4627, grad_fn=<NegBackward0>)\n",
      "tensor(2.4627, grad_fn=<NegBackward0>)\n",
      "tensor(2.4627, grad_fn=<NegBackward0>)\n",
      "tensor(2.4626, grad_fn=<NegBackward0>)\n",
      "tensor(2.4626, grad_fn=<NegBackward0>)\n",
      "tensor(2.4626, grad_fn=<NegBackward0>)\n",
      "tensor(2.4626, grad_fn=<NegBackward0>)\n",
      "tensor(2.4626, grad_fn=<NegBackward0>)\n",
      "tensor(2.4626, grad_fn=<NegBackward0>)\n",
      "tensor(2.4626, grad_fn=<NegBackward0>)\n",
      "tensor(2.4626, grad_fn=<NegBackward0>)\n",
      "tensor(2.4626, grad_fn=<NegBackward0>)\n",
      "tensor(2.4626, grad_fn=<NegBackward0>)\n",
      "tensor(2.4625, grad_fn=<NegBackward0>)\n",
      "tensor(2.4625, grad_fn=<NegBackward0>)\n",
      "tensor(2.4625, grad_fn=<NegBackward0>)\n",
      "tensor(2.4625, grad_fn=<NegBackward0>)\n",
      "tensor(2.4625, grad_fn=<NegBackward0>)\n",
      "tensor(2.4625, grad_fn=<NegBackward0>)\n",
      "tensor(2.4625, grad_fn=<NegBackward0>)\n",
      "tensor(2.4625, grad_fn=<NegBackward0>)\n",
      "tensor(2.4625, grad_fn=<NegBackward0>)\n",
      "tensor(2.4625, grad_fn=<NegBackward0>)\n",
      "tensor(2.4624, grad_fn=<NegBackward0>)\n",
      "tensor(2.4624, grad_fn=<NegBackward0>)\n",
      "tensor(2.4624, grad_fn=<NegBackward0>)\n",
      "tensor(2.4624, grad_fn=<NegBackward0>)\n",
      "tensor(2.4624, grad_fn=<NegBackward0>)\n",
      "tensor(2.4624, grad_fn=<NegBackward0>)\n",
      "tensor(2.4624, grad_fn=<NegBackward0>)\n",
      "tensor(2.4624, grad_fn=<NegBackward0>)\n",
      "tensor(2.4624, grad_fn=<NegBackward0>)\n",
      "tensor(2.4624, grad_fn=<NegBackward0>)\n",
      "tensor(2.4623, grad_fn=<NegBackward0>)\n",
      "tensor(2.4623, grad_fn=<NegBackward0>)\n",
      "tensor(2.4623, grad_fn=<NegBackward0>)\n",
      "tensor(2.4623, grad_fn=<NegBackward0>)\n",
      "tensor(2.4623, grad_fn=<NegBackward0>)\n",
      "tensor(2.4623, grad_fn=<NegBackward0>)\n",
      "tensor(2.4623, grad_fn=<NegBackward0>)\n",
      "tensor(2.4623, grad_fn=<NegBackward0>)\n",
      "tensor(2.4623, grad_fn=<NegBackward0>)\n",
      "tensor(2.4623, grad_fn=<NegBackward0>)\n",
      "tensor(2.4623, grad_fn=<NegBackward0>)\n",
      "tensor(2.4622, grad_fn=<NegBackward0>)\n",
      "tensor(2.4622, grad_fn=<NegBackward0>)\n",
      "tensor(2.4622, grad_fn=<NegBackward0>)\n",
      "tensor(2.4622, grad_fn=<NegBackward0>)\n",
      "tensor(2.4622, grad_fn=<NegBackward0>)\n",
      "tensor(2.4622, grad_fn=<NegBackward0>)\n",
      "tensor(2.4622, grad_fn=<NegBackward0>)\n",
      "tensor(2.4622, grad_fn=<NegBackward0>)\n",
      "tensor(2.4622, grad_fn=<NegBackward0>)\n",
      "tensor(2.4622, grad_fn=<NegBackward0>)\n",
      "tensor(2.4622, grad_fn=<NegBackward0>)\n",
      "tensor(2.4621, grad_fn=<NegBackward0>)\n",
      "tensor(2.4621, grad_fn=<NegBackward0>)\n",
      "tensor(2.4621, grad_fn=<NegBackward0>)\n",
      "tensor(2.4621, grad_fn=<NegBackward0>)\n",
      "tensor(2.4621, grad_fn=<NegBackward0>)\n",
      "tensor(2.4621, grad_fn=<NegBackward0>)\n",
      "tensor(2.4621, grad_fn=<NegBackward0>)\n",
      "tensor(2.4621, grad_fn=<NegBackward0>)\n",
      "tensor(2.4621, grad_fn=<NegBackward0>)\n",
      "tensor(2.4621, grad_fn=<NegBackward0>)\n",
      "tensor(2.4621, grad_fn=<NegBackward0>)\n",
      "tensor(2.4620, grad_fn=<NegBackward0>)\n",
      "tensor(2.4620, grad_fn=<NegBackward0>)\n",
      "tensor(2.4620, grad_fn=<NegBackward0>)\n",
      "tensor(2.4620, grad_fn=<NegBackward0>)\n",
      "tensor(2.4620, grad_fn=<NegBackward0>)\n",
      "tensor(2.4620, grad_fn=<NegBackward0>)\n",
      "tensor(2.4620, grad_fn=<NegBackward0>)\n",
      "tensor(2.4620, grad_fn=<NegBackward0>)\n",
      "tensor(2.4620, grad_fn=<NegBackward0>)\n",
      "tensor(2.4620, grad_fn=<NegBackward0>)\n",
      "tensor(2.4620, grad_fn=<NegBackward0>)\n",
      "tensor(2.4619, grad_fn=<NegBackward0>)\n",
      "tensor(2.4619, grad_fn=<NegBackward0>)\n",
      "tensor(2.4619, grad_fn=<NegBackward0>)\n",
      "tensor(2.4619, grad_fn=<NegBackward0>)\n",
      "tensor(2.4619, grad_fn=<NegBackward0>)\n",
      "tensor(2.4619, grad_fn=<NegBackward0>)\n",
      "tensor(2.4619, grad_fn=<NegBackward0>)\n",
      "tensor(2.4619, grad_fn=<NegBackward0>)\n",
      "tensor(2.4619, grad_fn=<NegBackward0>)\n",
      "tensor(2.4619, grad_fn=<NegBackward0>)\n",
      "tensor(2.4619, grad_fn=<NegBackward0>)\n",
      "tensor(2.4619, grad_fn=<NegBackward0>)\n",
      "tensor(2.4618, grad_fn=<NegBackward0>)\n",
      "tensor(2.4618, grad_fn=<NegBackward0>)\n",
      "tensor(2.4618, grad_fn=<NegBackward0>)\n",
      "tensor(2.4618, grad_fn=<NegBackward0>)\n",
      "tensor(2.4618, grad_fn=<NegBackward0>)\n",
      "tensor(2.4618, grad_fn=<NegBackward0>)\n",
      "tensor(2.4618, grad_fn=<NegBackward0>)\n",
      "tensor(2.4618, grad_fn=<NegBackward0>)\n",
      "tensor(2.4618, grad_fn=<NegBackward0>)\n",
      "tensor(2.4618, grad_fn=<NegBackward0>)\n",
      "tensor(2.4618, grad_fn=<NegBackward0>)\n",
      "tensor(2.4618, grad_fn=<NegBackward0>)\n",
      "tensor(2.4617, grad_fn=<NegBackward0>)\n",
      "tensor(2.4617, grad_fn=<NegBackward0>)\n",
      "tensor(2.4617, grad_fn=<NegBackward0>)\n",
      "tensor(2.4617, grad_fn=<NegBackward0>)\n",
      "tensor(2.4617, grad_fn=<NegBackward0>)\n",
      "tensor(2.4617, grad_fn=<NegBackward0>)\n",
      "tensor(2.4617, grad_fn=<NegBackward0>)\n",
      "tensor(2.4617, grad_fn=<NegBackward0>)\n",
      "tensor(2.4617, grad_fn=<NegBackward0>)\n",
      "tensor(2.4617, grad_fn=<NegBackward0>)\n",
      "tensor(2.4617, grad_fn=<NegBackward0>)\n",
      "tensor(2.4617, grad_fn=<NegBackward0>)\n",
      "tensor(2.4616, grad_fn=<NegBackward0>)\n",
      "tensor(2.4616, grad_fn=<NegBackward0>)\n",
      "tensor(2.4616, grad_fn=<NegBackward0>)\n",
      "tensor(2.4616, grad_fn=<NegBackward0>)\n",
      "tensor(2.4616, grad_fn=<NegBackward0>)\n",
      "tensor(2.4616, grad_fn=<NegBackward0>)\n",
      "tensor(2.4616, grad_fn=<NegBackward0>)\n",
      "tensor(2.4616, grad_fn=<NegBackward0>)\n",
      "tensor(2.4616, grad_fn=<NegBackward0>)\n",
      "tensor(2.4616, grad_fn=<NegBackward0>)\n",
      "tensor(2.4616, grad_fn=<NegBackward0>)\n",
      "tensor(2.4616, grad_fn=<NegBackward0>)\n",
      "tensor(2.4615, grad_fn=<NegBackward0>)\n",
      "tensor(2.4615, grad_fn=<NegBackward0>)\n",
      "tensor(2.4615, grad_fn=<NegBackward0>)\n",
      "tensor(2.4615, grad_fn=<NegBackward0>)\n"
     ]
    }
   ],
   "source": [
    "#gradient descent\n",
    "for i in range(1000):\n",
    "    # forward pass\n",
    "    logits=X @ W\n",
    "    counts=logits.exp()\n",
    "    probs=counts/counts.sum(1,keepdim=True)\n",
    "    loss=-probs[torch.arange(num),ys].log().mean()\n",
    "    #backward pass\n",
    "    W.grad=None\n",
    "    loss.backward()\n",
    "    #update weights based off backward prop\n",
    "    W.data+=-10*W.grad\n",
    "    print(loss)"
   ]
  },
  {
   "cell_type": "code",
   "execution_count": 255,
   "metadata": {},
   "outputs": [
    {
     "data": {
      "text/plain": [
       "tensor(0.0123, grad_fn=<SelectBackward0>)"
      ]
     },
     "execution_count": 255,
     "metadata": {},
     "output_type": "execute_result"
    }
   ],
   "source": [
    "probs[5,15]"
   ]
  },
  {
   "cell_type": "code",
   "execution_count": 247,
   "metadata": {},
   "outputs": [
    {
     "data": {
      "text/plain": [
       "tensor(15)"
      ]
     },
     "execution_count": 247,
     "metadata": {},
     "output_type": "execute_result"
    }
   ],
   "source": [
    "ys[5]"
   ]
  },
  {
   "cell_type": "code",
   "execution_count": 370,
   "metadata": {},
   "outputs": [
    {
     "name": "stdout",
     "output_type": "stream",
     "text": [
      "mon.\n",
      "brei.\n",
      "eemchivign.\n",
      "killaka.\n",
      "y.\n"
     ]
    }
   ],
   "source": [
    "for i in range(5):\n",
    "    out=[]\n",
    "    ix=0\n",
    "    while True:\n",
    "        xenc=torch.nn.functional.one_hot(torch.tensor([ix]),num_classes=27).float()\n",
    "        logits=xenc@W\n",
    "        counts=logits.exp()\n",
    "        p=counts/counts.sum(1,keepdim=True)\n",
    "\n",
    "        ix=torch.multinomial(p,num_samples=1,replacement=True).item()\n",
    "        out.append(itos[ix])\n",
    "        if(ix==0):\n",
    "            break\n",
    "    print(''.join(out))"
   ]
  },
  {
   "cell_type": "markdown",
   "metadata": {},
   "source": [
    "Trying sequential api of pytorch"
   ]
  },
  {
   "cell_type": "code",
   "execution_count": 350,
   "metadata": {},
   "outputs": [],
   "source": [
    "model=torch.nn.Sequential(\n",
    "    torch.nn.Linear(27,27),\n",
    "    # torch.nn.Sigmoid()\n",
    ")\n",
    "\n",
    "criterion=torch.nn.NLLLoss()\n",
    "optimizer=torch.optim.SGD(model.parameters(),lr=0.1)"
   ]
  },
  {
   "cell_type": "code",
   "execution_count": 351,
   "metadata": {},
   "outputs": [
    {
     "data": {
      "text/plain": [
       "torch.Size([228146, 27])"
      ]
     },
     "execution_count": 351,
     "metadata": {},
     "output_type": "execute_result"
    }
   ],
   "source": [
    "X.shape"
   ]
  },
  {
   "cell_type": "code",
   "execution_count": 352,
   "metadata": {},
   "outputs": [],
   "source": [
    "X=torch.nn.functional.one_hot(xs,num_classes=27).float()\n",
    "Y=torch.nn.functional.one_hot(ys,num_classes=27).float()"
   ]
  },
  {
   "cell_type": "code",
   "execution_count": 353,
   "metadata": {},
   "outputs": [
    {
     "data": {
      "text/plain": [
       "tensor([5])"
      ]
     },
     "execution_count": 353,
     "metadata": {},
     "output_type": "execute_result"
    }
   ],
   "source": [
    "ys[:1]"
   ]
  },
  {
   "cell_type": "code",
   "execution_count": 354,
   "metadata": {},
   "outputs": [
    {
     "data": {
      "text/plain": [
       "torch.Size([228146, 27])"
      ]
     },
     "execution_count": 354,
     "metadata": {},
     "output_type": "execute_result"
    }
   ],
   "source": [
    "X.shape"
   ]
  },
  {
   "cell_type": "code",
   "execution_count": 355,
   "metadata": {},
   "outputs": [
    {
     "data": {
      "text/plain": [
       "torch.Size([228146])"
      ]
     },
     "execution_count": 355,
     "metadata": {},
     "output_type": "execute_result"
    }
   ],
   "source": [
    "ys.shape"
   ]
  },
  {
   "cell_type": "code",
   "execution_count": 356,
   "metadata": {},
   "outputs": [
    {
     "data": {
      "text/plain": [
       "228146"
      ]
     },
     "execution_count": 356,
     "metadata": {},
     "output_type": "execute_result"
    }
   ],
   "source": [
    "ys.nelement()"
   ]
  },
  {
   "cell_type": "code",
   "execution_count": 357,
   "metadata": {},
   "outputs": [
    {
     "data": {
      "text/plain": [
       "torch.Size([228146])"
      ]
     },
     "execution_count": 357,
     "metadata": {},
     "output_type": "execute_result"
    }
   ],
   "source": [
    "ys.shape"
   ]
  },
  {
   "cell_type": "code",
   "execution_count": 358,
   "metadata": {},
   "outputs": [
    {
     "data": {
      "text/plain": [
       "torch.Size([228146])"
      ]
     },
     "execution_count": 358,
     "metadata": {},
     "output_type": "execute_result"
    }
   ],
   "source": [
    "X[torch.arange(num),ys].shape"
   ]
  },
  {
   "cell_type": "code",
   "execution_count": 359,
   "metadata": {},
   "outputs": [
    {
     "data": {
      "text/plain": [
       "torch.Size([228146, 27])"
      ]
     },
     "execution_count": 359,
     "metadata": {},
     "output_type": "execute_result"
    }
   ],
   "source": [
    "Y.shape"
   ]
  },
  {
   "cell_type": "code",
   "execution_count": 360,
   "metadata": {},
   "outputs": [
    {
     "name": "stdout",
     "output_type": "stream",
     "text": [
      "tensor(-0.0358)\n",
      "tensor(-0.0361)\n",
      "tensor(-0.0363)\n",
      "tensor(-0.0366)\n",
      "tensor(-0.0369)\n",
      "tensor(-0.0371)\n",
      "tensor(-0.0374)\n",
      "tensor(-0.0377)\n",
      "tensor(-0.0379)\n",
      "tensor(-0.0382)\n"
     ]
    }
   ],
   "source": [
    "for epoch in range(10):\n",
    "    optimizer.zero_grad()\n",
    "    logits=model(X)\n",
    "    counts=logits.exp()\n",
    "    probs=counts/counts.sum(1,keepdim=True)\n",
    "    num=ys.nelement()\n",
    "    output=probs[torch.arange(num),ys]\n",
    "    print(output)\n",
    "    print(ys)\n",
    "    loss=criterion(output,ys)\n",
    "    loss.backward()\n",
    "    optimizer.step()\n",
    "    print(loss.data)"
   ]
  },
  {
   "cell_type": "code",
   "execution_count": 362,
   "metadata": {},
   "outputs": [
    {
     "name": "stdout",
     "output_type": "stream",
     "text": [
      "xofszsxkohxxxabjqantpnotofqattutncxsppivnkcpymnxlqifvflyiqkmwtexpbhmxl.\n",
      "egvkaypoethv.\n",
      "lyeuxigjwftrmltffgnf.\n",
      "tcnylanixfsgpfwybuzhylh.\n",
      "foexjztksp.\n"
     ]
    }
   ],
   "source": [
    "for i in range(5):\n",
    "    out=[]\n",
    "    ix=0\n",
    "    while True:\n",
    "        xenc=torch.nn.functional.one_hot(torch.tensor([ix]),num_classes=27).float()\n",
    "        logits=model(xenc)\n",
    "        counts=logits.exp()\n",
    "        probs=counts/counts.sum(1,keepdim=True)\n",
    "        ix=torch.multinomial(probs,num_samples=1,replacement=True).item()\n",
    "        out.append(itos[ix])\n",
    "        if(ix==0):\n",
    "            break\n",
    "    print(''.join(out))"
   ]
  },
  {
   "cell_type": "code",
   "execution_count": null,
   "metadata": {},
   "outputs": [],
   "source": []
  },
  {
   "cell_type": "code",
   "execution_count": null,
   "metadata": {},
   "outputs": [],
   "source": []
  }
 ],
 "metadata": {
  "kernelspec": {
   "display_name": "venv",
   "language": "python",
   "name": "python3"
  },
  "language_info": {
   "codemirror_mode": {
    "name": "ipython",
    "version": 3
   },
   "file_extension": ".py",
   "mimetype": "text/x-python",
   "name": "python",
   "nbconvert_exporter": "python",
   "pygments_lexer": "ipython3",
   "version": "3.11.0"
  }
 },
 "nbformat": 4,
 "nbformat_minor": 2
}
